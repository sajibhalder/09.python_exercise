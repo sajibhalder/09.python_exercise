{
 "cells": [
  {
   "cell_type": "markdown",
   "metadata": {},
   "source": [
    "# 1.With a given integral number n, write a function to generate a dictionary that contains (i, i*i) such that is an integral number between 1 and n (both included).\n",
    "1...Number should not be less than 0 and should not be greater than 100.\n",
    "2..Calculate square of all number from 1 to n and store in dict"
   ]
  },
  {
   "cell_type": "code",
   "execution_count": 1,
   "metadata": {},
   "outputs": [],
   "source": [
    "def  squareOfNumbers(num):\n",
    "    t = {}\n",
    "    if num > 0 and num <= 100:\n",
    "        for x in range(1,num+1):\n",
    "            t.update({x: pow(x, 2)})\n",
    "    return t"
   ]
  },
  {
   "cell_type": "code",
   "execution_count": 5,
   "metadata": {},
   "outputs": [
    {
     "data": {
      "text/plain": [
       "{1: 1, 2: 4, 3: 9, 4: 16, 5: 25}"
      ]
     },
     "execution_count": 5,
     "metadata": {},
     "output_type": "execute_result"
    }
   ],
   "source": [
    "squareOfNumbers(5)"
   ]
  },
  {
   "cell_type": "markdown",
   "metadata": {},
   "source": [
    "# 2.Write a program that accepts a sentence and calculate the number of letters and digits."
   ]
  },
  {
   "cell_type": "code",
   "execution_count": 6,
   "metadata": {},
   "outputs": [],
   "source": [
    "def letterAndDigit(string):\n",
    "    count1=0\n",
    "    count2=0\n",
    "    for character in string:\n",
    "        if character.isdigit():\n",
    "            count1 += 1\n",
    "        elif character.isalpha():\n",
    "            count2 += 1\n",
    "        elif character == \" \":\n",
    "            pass\n",
    "\n",
    "    return {\"DIGITS\": count1 ,\"LETTERS\": count2}"
   ]
  },
  {
   "cell_type": "code",
   "execution_count": 7,
   "metadata": {},
   "outputs": [
    {
     "data": {
      "text/plain": [
       "{'DIGITS': 3, 'LETTERS': 5}"
      ]
     },
     "execution_count": 7,
     "metadata": {},
     "output_type": "execute_result"
    }
   ],
   "source": [
    "letterAndDigit('world! 234')"
   ]
  },
  {
   "cell_type": "markdown",
   "metadata": {},
   "source": [
    "# 3.With a given integer number n, write a function to get all even numbers starting from 1"
   ]
  },
  {
   "cell_type": "code",
   "execution_count": 8,
   "metadata": {},
   "outputs": [],
   "source": [
    "def get_even_numbers(num):\n",
    "    lst = [i for i in range(2,num + 1,2) if i > 0]\n",
    "    return lst"
   ]
  },
  {
   "cell_type": "code",
   "execution_count": 9,
   "metadata": {},
   "outputs": [
    {
     "data": {
      "text/plain": [
       "[2, 4, 6, 8, 10, 12]"
      ]
     },
     "execution_count": 9,
     "metadata": {},
     "output_type": "execute_result"
    }
   ],
   "source": [
    "get_even_numbers(12)"
   ]
  },
  {
   "cell_type": "markdown",
   "metadata": {},
   "source": [
    "# 4.Write a function to concatenate two dictionaries to create a new one."
   ]
  },
  {
   "cell_type": "code",
   "execution_count": 10,
   "metadata": {},
   "outputs": [],
   "source": [
    "def solution(dic1, dic2):\n",
    "    d = dic1.copy()\n",
    "    d.update(dic2)\n",
    "    return d"
   ]
  },
  {
   "cell_type": "code",
   "execution_count": 11,
   "metadata": {},
   "outputs": [
    {
     "data": {
      "text/plain": [
       "{1: 10, 2: 20, 3: 30, 4: 40}"
      ]
     },
     "execution_count": 11,
     "metadata": {},
     "output_type": "execute_result"
    }
   ],
   "source": [
    "solution({1: 10, 2: 20}, {3: 30, 4: 40})"
   ]
  },
  {
   "cell_type": "markdown",
   "metadata": {},
   "source": [
    "# 5.Define a function to check if a given key already exists in a dictionary."
   ]
  },
  {
   "cell_type": "code",
   "execution_count": 12,
   "metadata": {},
   "outputs": [],
   "source": [
    "def solution(dic1, key1):\n",
    "    '''Enter Code Here'''\n",
    "    count = 0\n",
    "    for k in dic1.keys():\n",
    "        if k == key1:\n",
    "            count += 1\n",
    "    if count == 0:\n",
    "        return False\n",
    "    else:\n",
    "        return True"
   ]
  },
  {
   "cell_type": "code",
   "execution_count": 13,
   "metadata": {},
   "outputs": [
    {
     "data": {
      "text/plain": [
       "True"
      ]
     },
     "execution_count": 13,
     "metadata": {},
     "output_type": "execute_result"
    }
   ],
   "source": [
    "solution({1:10,2:20,3:30,4:40},3)"
   ]
  },
  {
   "cell_type": "markdown",
   "metadata": {},
   "source": [
    "# 6.Define a function that takes a dictionary as a parameter and iterates over its key:value pairs. The Function should return a sorted list containing tuples of the key-value pairs."
   ]
  },
  {
   "cell_type": "code",
   "execution_count": 14,
   "metadata": {},
   "outputs": [],
   "source": [
    "def solution(dic1):\n",
    "    '''Enter code here'''\n",
    "    l = [(k ,v) for k,v in dic1.items()]\n",
    "    return l"
   ]
  },
  {
   "cell_type": "code",
   "execution_count": 15,
   "metadata": {},
   "outputs": [
    {
     "data": {
      "text/plain": [
       "[(1, 10), (2, 20), (3, 30), (4, 40)]"
      ]
     },
     "execution_count": 15,
     "metadata": {},
     "output_type": "execute_result"
    }
   ],
   "source": [
    "solution({1: 10, 2: 20, 3: 30, 4: 40})"
   ]
  },
  {
   "cell_type": "markdown",
   "metadata": {},
   "source": [
    "# 7.Define a function that takes a dictionary as a parameter and returns the sum of all the values in it."
   ]
  },
  {
   "cell_type": "code",
   "execution_count": 16,
   "metadata": {},
   "outputs": [],
   "source": [
    "def solution(dic):\n",
    "    '''Enter Code Here'''\n",
    "    return sum(dic.values())"
   ]
  },
  {
   "cell_type": "code",
   "execution_count": 17,
   "metadata": {},
   "outputs": [
    {
     "data": {
      "text/plain": [
       "60"
      ]
     },
     "execution_count": 17,
     "metadata": {},
     "output_type": "execute_result"
    }
   ],
   "source": [
    "solution({1:10, 2:20, 3:30})"
   ]
  },
  {
   "cell_type": "markdown",
   "metadata": {},
   "source": [
    "# 8.Define a function that takes two parameters: a dictionary and a key. Then remove the key from the dictionary if it is present. Return the dictionary."
   ]
  },
  {
   "cell_type": "code",
   "execution_count": 18,
   "metadata": {},
   "outputs": [],
   "source": [
    "def solution(dic1, key1):\n",
    "    '''Enter Code Here'''\n",
    "    if key1 in dic1:\n",
    "        del dic1[key1]\n",
    "    return dic1"
   ]
  },
  {
   "cell_type": "code",
   "execution_count": 19,
   "metadata": {},
   "outputs": [
    {
     "data": {
      "text/plain": [
       "{1: 10, 3: 30}"
      ]
     },
     "execution_count": 19,
     "metadata": {},
     "output_type": "execute_result"
    }
   ],
   "source": [
    "solution({1:10, 2:20, 3:30}, 2)"
   ]
  },
  {
   "cell_type": "markdown",
   "metadata": {},
   "source": [
    "# 9.Define a function that takes two lists as parameter and returns a dictionary after combining the lists."
   ]
  },
  {
   "cell_type": "code",
   "execution_count": 20,
   "metadata": {},
   "outputs": [],
   "source": [
    "def solution(keys, values):\n",
    "    '''Enter Code Here'''\n",
    "    z = dict(zip(keys,values))\n",
    "    return z"
   ]
  },
  {
   "cell_type": "code",
   "execution_count": 21,
   "metadata": {},
   "outputs": [
    {
     "data": {
      "text/plain": [
       "{1: 10, 2: 20, 3: 30}"
      ]
     },
     "execution_count": 21,
     "metadata": {},
     "output_type": "execute_result"
    }
   ],
   "source": [
    "solution([1, 2, 3], [10, 20, 30])"
   ]
  },
  {
   "cell_type": "markdown",
   "metadata": {},
   "source": [
    "# 10.Define a function that takes a dictionary as a parameter and returns a sorted list of the keys of the dictionary"
   ]
  },
  {
   "cell_type": "code",
   "execution_count": 22,
   "metadata": {},
   "outputs": [],
   "source": [
    "def solution(dic):\n",
    "    \"\"\"Enter Code Here\"\"\"\n",
    "    return sorted(list(dic.keys()))"
   ]
  },
  {
   "cell_type": "code",
   "execution_count": 23,
   "metadata": {},
   "outputs": [
    {
     "data": {
      "text/plain": [
       "[1, 2, 3, 4]"
      ]
     },
     "execution_count": 23,
     "metadata": {},
     "output_type": "execute_result"
    }
   ],
   "source": [
    "solution({1: 10, 4: 40, 2: 20, 3: 30})"
   ]
  },
  {
   "cell_type": "markdown",
   "metadata": {},
   "source": [
    "# 11.Define a function that takes a dictionary as a parameter and returns a tuple of the maximum and minimum value."
   ]
  },
  {
   "cell_type": "code",
   "execution_count": 24,
   "metadata": {},
   "outputs": [],
   "source": [
    "def solution(dic):\n",
    "    \"Enter Code here\"\n",
    "    return (max(dic.values()),min(dic.values()))"
   ]
  },
  {
   "cell_type": "code",
   "execution_count": 25,
   "metadata": {},
   "outputs": [
    {
     "data": {
      "text/plain": [
       "(35, 1)"
      ]
     },
     "execution_count": 25,
     "metadata": {},
     "output_type": "execute_result"
    }
   ],
   "source": [
    "solution({'a': 1, 'b': 2, 'c': 35})"
   ]
  },
  {
   "cell_type": "markdown",
   "metadata": {},
   "source": [
    "# 12.Define a function that takes a list of numbers as a parameter and returns the second smallest number in the list."
   ]
  },
  {
   "cell_type": "code",
   "execution_count": 30,
   "metadata": {},
   "outputs": [],
   "source": [
    "def solution(list1):\n",
    "    \"\"\"Enter Code Here\"\"\"\n",
    "    list1.sort()\n",
    "    return list1[1]"
   ]
  },
  {
   "cell_type": "code",
   "execution_count": 31,
   "metadata": {},
   "outputs": [
    {
     "data": {
      "text/plain": [
       "-2"
      ]
     },
     "execution_count": 31,
     "metadata": {},
     "output_type": "execute_result"
    }
   ],
   "source": [
    "solution([1, 2, -8, -2, 0])"
   ]
  },
  {
   "cell_type": "markdown",
   "metadata": {},
   "source": [
    "# 13.Define a function that takes two parameters: a list of numbers, a number The function should first sort the list and then insert the number into the list so that the list still remains sorted. Function should return the updated list"
   ]
  },
  {
   "cell_type": "code",
   "execution_count": 32,
   "metadata": {},
   "outputs": [],
   "source": [
    "import bisect\n",
    "\n",
    "def solution(list_of_nums, num):\n",
    "    \"\"\"Enter Code Here\"\"\"\n",
    "    list_of_nums.sort()\n",
    "    bisect.insort(list_of_nums,num)\n",
    "    return list_of_nums"
   ]
  },
  {
   "cell_type": "code",
   "execution_count": 33,
   "metadata": {},
   "outputs": [
    {
     "data": {
      "text/plain": [
       "[1, 2, 3, 4, 5, 6]"
      ]
     },
     "execution_count": 33,
     "metadata": {},
     "output_type": "execute_result"
    }
   ],
   "source": [
    "solution([1, 2, 3, 5, 6], 4)"
   ]
  },
  {
   "cell_type": "markdown",
   "metadata": {},
   "source": [
    "# 14.With a given integer number n, write a function to get array of all prime numbers from 1 to n."
   ]
  },
  {
   "cell_type": "code",
   "execution_count": 35,
   "metadata": {},
   "outputs": [],
   "source": [
    "def get_prime_numbers(n):\n",
    "    prime=[]\n",
    "    if n > 1:\n",
    "        for i in range(2,n):\n",
    "            for j in range(2,i):\n",
    "                if (i%j==0):\n",
    "                        break\n",
    "            else:\n",
    "                prime.append(i)\n",
    "    else:\n",
    "        if n<=1:\n",
    "            print (\"Number is less than one\")\n",
    "\n",
    "    return prime"
   ]
  },
  {
   "cell_type": "code",
   "execution_count": 36,
   "metadata": {},
   "outputs": [
    {
     "data": {
      "text/plain": [
       "[2, 3, 5, 7, 11, 13, 17, 19]"
      ]
     },
     "execution_count": 36,
     "metadata": {},
     "output_type": "execute_result"
    }
   ],
   "source": [
    "get_prime_numbers(20)"
   ]
  },
  {
   "cell_type": "markdown",
   "metadata": {},
   "source": [
    "# 15.Define a function that takes 3 parameters(all positive integers) in this order: num1, num2, end_num\n",
    "# Function should return a list of all numbers less than end_num that are divisible by both num1 and num2."
   ]
  },
  {
   "cell_type": "code",
   "execution_count": 37,
   "metadata": {},
   "outputs": [],
   "source": [
    "def solution(num1, num2, end_num):\n",
    "    \"\"\"Enter Code Here\"\"\"\n",
    "    list1 = [x for x in range(1,end_num+1) if x % num1==0 and x%num2==0 ]\n",
    "    return list1"
   ]
  },
  {
   "cell_type": "code",
   "execution_count": 38,
   "metadata": {},
   "outputs": [
    {
     "data": {
      "text/plain": [
       "[12, 24, 36]"
      ]
     },
     "execution_count": 38,
     "metadata": {},
     "output_type": "execute_result"
    }
   ],
   "source": [
    "solution(4, 6, 37)"
   ]
  },
  {
   "cell_type": "markdown",
   "metadata": {},
   "source": [
    "# 16.Define a function that returns the following pattern in a string (alphabet 'G'):\n",
    "\n",
    "                          ***                                                                   \n",
    "                         *   *                                                                  \n",
    "                         *                                                                      \n",
    "                         * ***                                                                  \n",
    "                         *   *                                                                  \n",
    "                         *   *                                                                  \n",
    "                          ***   \n"
   ]
  },
  {
   "cell_type": "code",
   "execution_count": 44,
   "metadata": {},
   "outputs": [],
   "source": [
    "def solution():\n",
    "    \"\"\"Enter Code Here\"\"\"\n",
    "    a=\" *** \"\n",
    "    b=\"*   *\"\n",
    "    c=\"*    \"\n",
    "    d=\"* ***\"\n",
    "    e=\"*   *\"\n",
    "    f=\"*   *\"\n",
    "    g=\" *** \"\n",
    "    print (a +\"\\n\"+b+\"\\n\"+c+\"\\n\"+d+\"\\n\"+e+\"\\n\"+f+\"\\n\"+g)"
   ]
  },
  {
   "cell_type": "code",
   "execution_count": 45,
   "metadata": {},
   "outputs": [
    {
     "name": "stdout",
     "output_type": "stream",
     "text": [
      " *** \n",
      "*   *\n",
      "*    \n",
      "* ***\n",
      "*   *\n",
      "*   *\n",
      " *** \n"
     ]
    }
   ],
   "source": [
    "solution()"
   ]
  },
  {
   "cell_type": "markdown",
   "metadata": {},
   "source": [
    "# 17.Write a Python program to count the number of even and odd numbers from a series of numbers"
   ]
  },
  {
   "cell_type": "code",
   "execution_count": 46,
   "metadata": {},
   "outputs": [],
   "source": [
    "def solution(list_of_nums):\n",
    "    \"\"\"Enter Code Here\"\"\"\n",
    "    count1=0\n",
    "    count2=0\n",
    "    for index in list_of_nums:\n",
    "        if index%2 == 0:\n",
    "            count1 += 1\n",
    "        else:\n",
    "            count2 += 1\n",
    "\n",
    "\n",
    "    return {\"ODD\": count2 ,\"EVEN\": count1}"
   ]
  },
  {
   "cell_type": "code",
   "execution_count": 47,
   "metadata": {},
   "outputs": [
    {
     "data": {
      "text/plain": [
       "{'ODD': 4, 'EVEN': 2}"
      ]
     },
     "execution_count": 47,
     "metadata": {},
     "output_type": "execute_result"
    }
   ],
   "source": [
    "solution([1, 2, 3, 5, 8, 9])"
   ]
  },
  {
   "cell_type": "markdown",
   "metadata": {},
   "source": [
    "# 18.Remove duplicate from following list"
   ]
  },
  {
   "cell_type": "code",
   "execution_count": 48,
   "metadata": {},
   "outputs": [],
   "source": [
    "def solution(list):\n",
    "    unique = []\n",
    "    for x in list:\n",
    "        if x not in unique:\n",
    "            unique.append(x)\n",
    "    return unique"
   ]
  },
  {
   "cell_type": "code",
   "execution_count": 49,
   "metadata": {},
   "outputs": [
    {
     "data": {
      "text/plain": [
       "[3, 4, 5]"
      ]
     },
     "execution_count": 49,
     "metadata": {},
     "output_type": "execute_result"
    }
   ],
   "source": [
    "solution([3,4,3,5,4])"
   ]
  },
  {
   "cell_type": "markdown",
   "metadata": {},
   "source": [
    "# 19.Find out whether a list is a palindrome"
   ]
  },
  {
   "cell_type": "code",
   "execution_count": 50,
   "metadata": {},
   "outputs": [],
   "source": [
    "def solution(list):\n",
    "    if list == list[::-1]:\n",
    "        return True\n",
    "    else:\n",
    "        return False"
   ]
  },
  {
   "cell_type": "code",
   "execution_count": 51,
   "metadata": {},
   "outputs": [
    {
     "data": {
      "text/plain": [
       "True"
      ]
     },
     "execution_count": 51,
     "metadata": {},
     "output_type": "execute_result"
    }
   ],
   "source": [
    "solution(['n','i','t','i','n'])"
   ]
  },
  {
   "cell_type": "markdown",
   "metadata": {},
   "source": [
    "# 20.Given this nest dictionary grab the word \"hello\"."
   ]
  },
  {
   "cell_type": "code",
   "execution_count": 52,
   "metadata": {},
   "outputs": [
    {
     "data": {
      "text/plain": [
       "'hello'"
      ]
     },
     "execution_count": 52,
     "metadata": {},
     "output_type": "execute_result"
    }
   ],
   "source": [
    "def solution(dic):\n",
    "    last_index_of_target = dic['k1'][3]['tricky'][3]['target'][3]\n",
    "\n",
    "\n",
    "    return last_index_of_target\n",
    "\n",
    "\n",
    "dic = {'k1': [1, 2, 3, {'tricky': ['oh', 'man', 'inception', {'target': [1, 2, 3, 'hello']}]}]}\n",
    "dic['k1'][3]['tricky'][3]['target'][3]"
   ]
  },
  {
   "cell_type": "markdown",
   "metadata": {},
   "source": [
    "# 21.Write a Python script to sort (ascending and descending) a dictionary by key"
   ]
  },
  {
   "cell_type": "code",
   "execution_count": 53,
   "metadata": {},
   "outputs": [],
   "source": [
    "import operator\n",
    "\n",
    "\n",
    "def solution_asc(dic):\n",
    "    return sorted(dic.items())\n",
    "\n",
    "def solution_desc(dic):\n",
    "    return sorted(dic.items(),key=operator.itemgetter(0),reverse=True)"
   ]
  },
  {
   "cell_type": "code",
   "execution_count": 56,
   "metadata": {},
   "outputs": [
    {
     "data": {
      "text/plain": [
       "[('a', 2), ('b', 1), ('c', 4), ('d', 3), ('e', 0)]"
      ]
     },
     "execution_count": 56,
     "metadata": {},
     "output_type": "execute_result"
    }
   ],
   "source": [
    "solution_asc({'a': 2, 'c': 4, 'd': 3, 'b': 1, 'e': 0})"
   ]
  },
  {
   "cell_type": "code",
   "execution_count": 57,
   "metadata": {},
   "outputs": [
    {
     "data": {
      "text/plain": [
       "[('e', 0), ('d', 3), ('c', 4), ('b', 1), ('a', 2)]"
      ]
     },
     "execution_count": 57,
     "metadata": {},
     "output_type": "execute_result"
    }
   ],
   "source": [
    "solution_desc({'a': 2, 'c': 4, 'd': 3, 'b': 1, 'e': 0})"
   ]
  },
  {
   "cell_type": "markdown",
   "metadata": {},
   "source": [
    "# 22.Write a function to find pair sum in a list."
   ]
  },
  {
   "cell_type": "code",
   "execution_count": 74,
   "metadata": {},
   "outputs": [],
   "source": [
    "def pairSum(lst1,num1):\n",
    "    final_list = []\n",
    "    lst1.sort()\n",
    "    lower = 0\n",
    "    upper = len(lst1) -1\n",
    "    while lower < upper:\n",
    "        if lst1[lower] + lst1 [upper] == num1:\n",
    "            lower +=1\n",
    "            upper -=1\n",
    "            final_list.append((lst1[lower],lst1[upper]))\n",
    "        elif lst1[lower] + lst1 [upper] < num1:\n",
    "             lower +=1\n",
    "        else:\n",
    "            upper -=1\n",
    "        return final_list"
   ]
  },
  {
   "cell_type": "code",
   "execution_count": 81,
   "metadata": {},
   "outputs": [
    {
     "data": {
      "text/plain": [
       "[(2, 8)]"
      ]
     },
     "execution_count": 81,
     "metadata": {},
     "output_type": "execute_result"
    }
   ],
   "source": [
    "pairSum([1,2,3,4,5,6,7,8,9],10)"
   ]
  },
  {
   "cell_type": "markdown",
   "metadata": {},
   "source": [
    "# 23.Write a Python program to combine two dictionary adding values for common keys."
   ]
  },
  {
   "cell_type": "code",
   "execution_count": 82,
   "metadata": {},
   "outputs": [],
   "source": [
    "def solution(d1, d2):\n",
    "    d3 ={}\n",
    "    for x,y in d1.items():\n",
    "        if x in d2.keys():\n",
    "            d3[x]=d1[x]+d2[x]\n",
    "        else:\n",
    "            d3[x]=d1[x]\n",
    "    for x,y in d2.items():\n",
    "        if x not in d1.keys():\n",
    "            d3[x]=d2[x]\n",
    "    return (d3)"
   ]
  },
  {
   "cell_type": "code",
   "execution_count": 83,
   "metadata": {},
   "outputs": [
    {
     "data": {
      "text/plain": [
       "{'a': 400, 'b': 400, 'c': 300, 'd': 400}"
      ]
     },
     "execution_count": 83,
     "metadata": {},
     "output_type": "execute_result"
    }
   ],
   "source": [
    "solution({'a': 100, 'b': 200, 'c':300},{'a': 300, 'b': 200, 'd':400})"
   ]
  },
  {
   "cell_type": "markdown",
   "metadata": {},
   "source": [
    "# 24.Write a Python program to sum all the items in a list."
   ]
  },
  {
   "cell_type": "code",
   "execution_count": 84,
   "metadata": {},
   "outputs": [],
   "source": [
    "def solution(list_of_integers):\n",
    "    sum_numbers = 0\n",
    "    for number in list_of_integers:\n",
    "        sum_numbers = number + sum_numbers \n",
    "\n",
    "    return sum_numbers"
   ]
  },
  {
   "cell_type": "code",
   "execution_count": 85,
   "metadata": {},
   "outputs": [
    {
     "data": {
      "text/plain": [
       "29"
      ]
     },
     "execution_count": 85,
     "metadata": {},
     "output_type": "execute_result"
    }
   ],
   "source": [
    "solution([2,3,5,8,11])"
   ]
  },
  {
   "cell_type": "markdown",
   "metadata": {},
   "source": [
    "# 25.Write a Python program to generate all sublists of a list."
   ]
  },
  {
   "cell_type": "code",
   "execution_count": 90,
   "metadata": {},
   "outputs": [],
   "source": [
    "import itertools\n",
    "def solution(a_list):\n",
    "    sublist1 = []\n",
    "    for i in range(0,len(a_list)+1):\n",
    "        sublist1 += map(list,itertools.combinations(a_list,i))\n",
    "    return sublist1"
   ]
  },
  {
   "cell_type": "code",
   "execution_count": 91,
   "metadata": {},
   "outputs": [
    {
     "data": {
      "text/plain": [
       "[[], [10], [20], [30], [10, 20], [10, 30], [20, 30], [10, 20, 30]]"
      ]
     },
     "execution_count": 91,
     "metadata": {},
     "output_type": "execute_result"
    }
   ],
   "source": [
    "solution([10, 20, 30])"
   ]
  },
  {
   "cell_type": "markdown",
   "metadata": {},
   "source": [
    "# 26.Write a Python program to count the number of strings where the string length is 2 or more and the first and last character are same from a given list of strings"
   ]
  },
  {
   "cell_type": "code",
   "execution_count": 92,
   "metadata": {},
   "outputs": [],
   "source": [
    "def solution(lis):\n",
    "    count = 0\n",
    "    for item in lis:\n",
    "        if len(item)>=2 and item[0] == item[-1]:\n",
    "            count +=1\n",
    "    return count"
   ]
  },
  {
   "cell_type": "code",
   "execution_count": 96,
   "metadata": {},
   "outputs": [
    {
     "data": {
      "text/plain": [
       "3"
      ]
     },
     "execution_count": 96,
     "metadata": {},
     "output_type": "execute_result"
    }
   ],
   "source": [
    "solution(['abc', 'xyz', 'aba', 'dad', '1871'])"
   ]
  },
  {
   "cell_type": "markdown",
   "metadata": {},
   "source": [
    "# 27.Write a Python program to get a list, sorted in increasing order by the last element in each tuple from a given list of non-empty tuples"
   ]
  },
  {
   "cell_type": "code",
   "execution_count": 97,
   "metadata": {},
   "outputs": [],
   "source": [
    "def solution(list_of_tuples):\n",
    "    return sorted(list_of_tuples,key=lambda x:x[1])"
   ]
  },
  {
   "cell_type": "code",
   "execution_count": 99,
   "metadata": {},
   "outputs": [
    {
     "data": {
      "text/plain": [
       "[(2, 1), (1, 25), (2, 30), (4, 45), (2, 55)]"
      ]
     },
     "execution_count": 99,
     "metadata": {},
     "output_type": "execute_result"
    }
   ],
   "source": [
    "solution([(2, 55), (1, 25), (4, 45), (2, 30), (2, 1)])"
   ]
  },
  {
   "cell_type": "markdown",
   "metadata": {},
   "source": [
    "# 28.Write a Python function that takes two lists and returns True if they have at least one common member."
   ]
  },
  {
   "cell_type": "code",
   "execution_count": 100,
   "metadata": {},
   "outputs": [],
   "source": [
    "def solution(list1, list2):\n",
    "    result = False\n",
    "    for x in list1:\n",
    "        if x in list2:\n",
    "            result = True\n",
    "            return result\n",
    "    return result"
   ]
  },
  {
   "cell_type": "code",
   "execution_count": 101,
   "metadata": {},
   "outputs": [
    {
     "data": {
      "text/plain": [
       "True"
      ]
     },
     "execution_count": 101,
     "metadata": {},
     "output_type": "execute_result"
    }
   ],
   "source": [
    "solution([1,2,3,4,5],[5,6,7,8])"
   ]
  },
  {
   "cell_type": "markdown",
   "metadata": {},
   "source": [
    "# 29.Write a Python program to create and display all combinations of letters, selecting each letter from a different key in a dictionary."
   ]
  },
  {
   "cell_type": "code",
   "execution_count": 102,
   "metadata": {},
   "outputs": [],
   "source": [
    "def solution(dic):\n",
    "    list_of_combinations = []\n",
    "    dic1 = dic['one']\n",
    "    dic2 = dic['two']\n",
    "    list_of_combinations = [dic1[i]+dic2[j] for i in range(0,len(dic1)) for j in range (0,len(dic2))]\n",
    "    return list_of_combinations"
   ]
  },
  {
   "cell_type": "code",
   "execution_count": 103,
   "metadata": {},
   "outputs": [
    {
     "data": {
      "text/plain": [
       "['ac', 'ad', 'bc', 'bd']"
      ]
     },
     "execution_count": 103,
     "metadata": {},
     "output_type": "execute_result"
    }
   ],
   "source": [
    "solution({'one':['a','b'], 'two':['c','d']})"
   ]
  },
  {
   "cell_type": "markdown",
   "metadata": {},
   "source": [
    "# 30.Flatten a shallow list(Return a combined list of above various lists.)"
   ]
  },
  {
   "cell_type": "code",
   "execution_count": 104,
   "metadata": {},
   "outputs": [],
   "source": [
    "def solution(list):\n",
    "    lis1=[]\n",
    "    for sublist in list:\n",
    "        for item in sublist:\n",
    "            lis1.append(item)\n",
    "    return lis1"
   ]
  },
  {
   "cell_type": "code",
   "execution_count": 105,
   "metadata": {},
   "outputs": [
    {
     "data": {
      "text/plain": [
       "[1, 2, 3, 4, 5, 6, 7, 8, 9]"
      ]
     },
     "execution_count": 105,
     "metadata": {},
     "output_type": "execute_result"
    }
   ],
   "source": [
    "solution([[1,2,3],[4,5],[6],[7],[8,9]])"
   ]
  },
  {
   "cell_type": "markdown",
   "metadata": {},
   "source": [
    "# 31.Write a function that should count word occurance in file."
   ]
  },
  {
   "cell_type": "code",
   "execution_count": 117,
   "metadata": {},
   "outputs": [],
   "source": [
    "def countWord(filepath,word):\n",
    "    file1=open(filepath,\"r\")\n",
    "    count = 0\n",
    "    line=file1.readline()\n",
    "    while (line != \"\"):\n",
    "        words = line.split()\n",
    "        for i in words:\n",
    "            if i == word:\n",
    "                count += 1\n",
    "        line=file1.readline()\n",
    "\n",
    "\n",
    "    file1.close()\n",
    "    return count"
   ]
  },
  {
   "cell_type": "code",
   "execution_count": 120,
   "metadata": {},
   "outputs": [
    {
     "data": {
      "text/plain": [
       "2"
      ]
     },
     "execution_count": 120,
     "metadata": {},
     "output_type": "execute_result"
    }
   ],
   "source": [
    "countWord('C:/Users/DELL/Downloads/16-DAYS-ML/26-Weeks-Of-Data-Science-master/Week-01-Git_&_Python_intro/notebooks/myfile.txt','line')"
   ]
  },
  {
   "cell_type": "markdown",
   "metadata": {},
   "source": [
    "# 32.Validate give string is valid email address."
   ]
  },
  {
   "cell_type": "code",
   "execution_count": 142,
   "metadata": {},
   "outputs": [],
   "source": [
    "import re\n",
    "def validate_email(string):\n",
    "    if (string != \"\"):\n",
    "        if re.findall('@',string):\n",
    "            return True\n",
    "        else:\n",
    "            return False\n",
    "\n",
    "    else:\n",
    "        print(\"invalid email\")"
   ]
  },
  {
   "cell_type": "code",
   "execution_count": 146,
   "metadata": {},
   "outputs": [
    {
     "data": {
      "text/plain": [
       "True"
      ]
     },
     "execution_count": 146,
     "metadata": {},
     "output_type": "execute_result"
    }
   ],
   "source": [
    "validate_email(\"we@aregreat.com\")"
   ]
  },
  {
   "cell_type": "markdown",
   "metadata": {},
   "source": [
    "# 33.Store temperature in celsius for last 7 days of Mumbai in array. Define function where you can pass this array as argument. Convert them in fahrenheit and return array of same.\n",
    "\n",
    "    Define function 'convert' which will accept array of celsius data.\n",
    "    Convert each entry into fahrenheit and store in array.\n",
    "    Function should pass all test cases."
   ]
  },
  {
   "cell_type": "code",
   "execution_count": 147,
   "metadata": {},
   "outputs": [],
   "source": [
    "def convert(celsius_data):\n",
    "    farenhiet = []\n",
    "    for items in celsius_data:\n",
    "        farenhiet.append(((items*9)/5)+32)\n",
    "    return farenhiet"
   ]
  },
  {
   "cell_type": "code",
   "execution_count": 148,
   "metadata": {},
   "outputs": [
    {
     "data": {
      "text/plain": [
       "[89.6, 87.8, 93.2, 91.4, 84.2, 95.0, 86.0]"
      ]
     },
     "execution_count": 148,
     "metadata": {},
     "output_type": "execute_result"
    }
   ],
   "source": [
    "convert([32,31,34,33,29,35,30])"
   ]
  },
  {
   "cell_type": "markdown",
   "metadata": {},
   "source": [
    "# 34.Write a Python program to convert a list and tuple into arrays using Numpy"
   ]
  },
  {
   "cell_type": "code",
   "execution_count": 149,
   "metadata": {},
   "outputs": [],
   "source": [
    "import numpy as np\n",
    "\n",
    "def solution(array1,array2):\n",
    "    array1=np.append(array1,array2)\n",
    "    return array1"
   ]
  },
  {
   "cell_type": "code",
   "execution_count": 152,
   "metadata": {},
   "outputs": [
    {
     "data": {
      "text/plain": [
       "array([40, 50, 60, 70, 80, 90])"
      ]
     },
     "execution_count": 152,
     "metadata": {},
     "output_type": "execute_result"
    }
   ],
   "source": [
    "solution([40, 50, 60],[70, 80, 90])"
   ]
  },
  {
   "cell_type": "markdown",
   "metadata": {},
   "source": [
    "# 35.Write a Python program to reverse an array using Numpy"
   ]
  },
  {
   "cell_type": "code",
   "execution_count": 153,
   "metadata": {},
   "outputs": [],
   "source": [
    "import numpy as np\n",
    "def solution(array):\n",
    "    arr=np.array(array)\n",
    "    return arr[::-1]"
   ]
  },
  {
   "cell_type": "code",
   "execution_count": 155,
   "metadata": {},
   "outputs": [
    {
     "data": {
      "text/plain": [
       "array([80, 70, 60, 50, 40])"
      ]
     },
     "execution_count": 155,
     "metadata": {},
     "output_type": "execute_result"
    }
   ],
   "source": [
    "solution([40,50,60,70,80])"
   ]
  },
  {
   "cell_type": "markdown",
   "metadata": {},
   "source": [
    "# 36.Create a 3x3 matrix with values ranging from 2 to 10 using Numpy."
   ]
  },
  {
   "cell_type": "code",
   "execution_count": 156,
   "metadata": {},
   "outputs": [],
   "source": [
    "import numpy as np\n",
    "def solution():\n",
    "    a=range(2,5)\n",
    "    b=range(5,8)\n",
    "    c=range(8,11)\n",
    "    arr = np.array([a,b,c])\n",
    "    return arr"
   ]
  },
  {
   "cell_type": "code",
   "execution_count": 158,
   "metadata": {},
   "outputs": [
    {
     "data": {
      "text/plain": [
       "array([[ 2,  3,  4],\n",
       "       [ 5,  6,  7],\n",
       "       [ 8,  9, 10]])"
      ]
     },
     "execution_count": 158,
     "metadata": {},
     "output_type": "execute_result"
    }
   ],
   "source": [
    "solution()"
   ]
  },
  {
   "cell_type": "markdown",
   "metadata": {},
   "source": [
    "# 37.Write a Python program to an array converted to a float type using Numpy"
   ]
  },
  {
   "cell_type": "code",
   "execution_count": 159,
   "metadata": {},
   "outputs": [],
   "source": [
    "import numpy as np\n",
    "\n",
    "\n",
    "def solution(array):\n",
    "    \"\"\"\n",
    "    Enter your code here\n",
    "    \"\"\"\n",
    "    arr = np.array(array)\n",
    "    return arr.astype(float)"
   ]
  },
  {
   "cell_type": "code",
   "execution_count": 160,
   "metadata": {},
   "outputs": [
    {
     "data": {
      "text/plain": [
       "array([40., 45., 50.])"
      ]
     },
     "execution_count": 160,
     "metadata": {},
     "output_type": "execute_result"
    }
   ],
   "source": [
    "solution([40,45,50])"
   ]
  },
  {
   "cell_type": "markdown",
   "metadata": {},
   "source": [
    "# 38.Write a Python program to convert the values of Fahrenheit degrees into Centigrade degrees. Fahrenheit values are stored into a NumPy array."
   ]
  },
  {
   "cell_type": "code",
   "execution_count": 161,
   "metadata": {},
   "outputs": [],
   "source": [
    "import numpy as np\n",
    "\n",
    "def solution(array):\n",
    "    return ((np.array(array)-32)*5)/9"
   ]
  },
  {
   "cell_type": "code",
   "execution_count": 162,
   "metadata": {},
   "outputs": [
    {
     "data": {
      "text/plain": [
       "array([-17.77777778, -11.11111111,   7.33888889,   1.11111111,\n",
       "        37.72777778])"
      ]
     },
     "execution_count": 162,
     "metadata": {},
     "output_type": "execute_result"
    }
   ],
   "source": [
    "solution( [ 0.0,12.0,45.21,34.0,99.91])"
   ]
  },
  {
   "cell_type": "markdown",
   "metadata": {},
   "source": [
    "# 39.Write a Python program to find common values between two arrays using Numpy"
   ]
  },
  {
   "cell_type": "code",
   "execution_count": 163,
   "metadata": {},
   "outputs": [],
   "source": [
    "import numpy as np\n",
    "\n",
    "\n",
    "def solution(array1, array2):\n",
    "    return np.intersect1d(array1,array2)"
   ]
  },
  {
   "cell_type": "code",
   "execution_count": 164,
   "metadata": {},
   "outputs": [
    {
     "data": {
      "text/plain": [
       "array([10, 40])"
      ]
     },
     "execution_count": 164,
     "metadata": {},
     "output_type": "execute_result"
    }
   ],
   "source": [
    "solution( [0,10,20,40,60],[10,30,40])"
   ]
  },
  {
   "cell_type": "markdown",
   "metadata": {},
   "source": [
    "# 40.Write a Python program to get the unique elements of an array using Numpy"
   ]
  },
  {
   "cell_type": "code",
   "execution_count": 165,
   "metadata": {},
   "outputs": [],
   "source": [
    "import numpy as np\n",
    "def solution(array):\n",
    "    arr = np.array(array)\n",
    "    return np.unique(arr)"
   ]
  },
  {
   "cell_type": "code",
   "execution_count": 166,
   "metadata": {},
   "outputs": [
    {
     "data": {
      "text/plain": [
       "array([10, 20, 30])"
      ]
     },
     "execution_count": 166,
     "metadata": {},
     "output_type": "execute_result"
    }
   ],
   "source": [
    "solution([10,10,20,20,30,30])"
   ]
  },
  {
   "cell_type": "code",
   "execution_count": 170,
   "metadata": {},
   "outputs": [
    {
     "data": {
      "text/plain": [
       "array([1, 2, 3])"
      ]
     },
     "execution_count": 170,
     "metadata": {},
     "output_type": "execute_result"
    }
   ],
   "source": [
    "solution([[1,1],[2,3]])"
   ]
  },
  {
   "cell_type": "markdown",
   "metadata": {},
   "source": [
    "# 41.Write a Python program to convert a tuple into arrays using Numpy."
   ]
  },
  {
   "cell_type": "code",
   "execution_count": 171,
   "metadata": {},
   "outputs": [],
   "source": [
    "import numpy as np\n",
    "def solution(tuple):\n",
    "    arr = np.array(tuple)\n",
    "    return arr"
   ]
  },
  {
   "cell_type": "code",
   "execution_count": 172,
   "metadata": {},
   "outputs": [
    {
     "data": {
      "text/plain": [
       "array([[8, 4, 6],\n",
       "       [1, 2, 3]])"
      ]
     },
     "execution_count": 172,
     "metadata": {},
     "output_type": "execute_result"
    }
   ],
   "source": [
    "solution(([8, 4, 6],[1, 2, 3]))"
   ]
  },
  {
   "cell_type": "markdown",
   "metadata": {},
   "source": [
    "# 42.Write a Python program to create a 2d array with 1 on the border and 0 inside using Numpy"
   ]
  },
  {
   "cell_type": "code",
   "execution_count": 173,
   "metadata": {},
   "outputs": [],
   "source": [
    "import numpy as np\n",
    "def solution(array):\n",
    "    \"\"\"\n",
    "    Enter code here\n",
    "    \"\"\"\n",
    "\n",
    "    array = np.ones((5,5))\n",
    "    array[1:4,1:4]=0\n",
    "    return array"
   ]
  },
  {
   "cell_type": "code",
   "execution_count": 174,
   "metadata": {},
   "outputs": [
    {
     "data": {
      "text/plain": [
       "array([[1., 1., 1., 1., 1.],\n",
       "       [1., 0., 0., 0., 1.],\n",
       "       [1., 0., 0., 0., 1.],\n",
       "       [1., 0., 0., 0., 1.],\n",
       "       [1., 1., 1., 1., 1.]])"
      ]
     },
     "execution_count": 174,
     "metadata": {},
     "output_type": "execute_result"
    }
   ],
   "source": [
    "solution([[1.,1.,1.,1.,1.],[1.,1.,1.,1.,1.],[1.,1.,1.,1.,1.],[1.,1.,1.,1.,1.],[1.,1.,1.,1.,1.]])"
   ]
  },
  {
   "cell_type": "markdown",
   "metadata": {},
   "source": [
    "# 43.Given an array, find the two indices that sum to a specific value."
   ]
  },
  {
   "cell_type": "code",
   "execution_count": 175,
   "metadata": {},
   "outputs": [],
   "source": [
    "def two_sum(l1,num):\n",
    "    if l1 == []:\n",
    "        raise ValueError\n",
    "    elif l1 == None:\n",
    "        raise TypeError\n",
    "    else:\n",
    "        for i in range(0,len(l1)):\n",
    "            for j in range(0,len(l1)):\n",
    "                if l1[i] + l1[j] == num and i !=j:\n",
    "                    return [i,j]"
   ]
  },
  {
   "cell_type": "code",
   "execution_count": 176,
   "metadata": {},
   "outputs": [
    {
     "data": {
      "text/plain": [
       "[0, 8]"
      ]
     },
     "execution_count": 176,
     "metadata": {},
     "output_type": "execute_result"
    }
   ],
   "source": [
    "two_sum([9,12,5,1,13,18,-12,20,7],16)"
   ]
  },
  {
   "cell_type": "markdown",
   "metadata": {},
   "source": [
    "# 44.determine if a string has all unique characters."
   ]
  },
  {
   "cell_type": "code",
   "execution_count": 177,
   "metadata": {},
   "outputs": [],
   "source": [
    "def has_unique_chars(string):\n",
    "    unique_chars = {}\n",
    "    count = 0\n",
    "    if string == None:\n",
    "        return False\n",
    "    else:\n",
    "        for letter in string:\n",
    "            if letter in unique_chars.keys():\n",
    "                unique_chars[letter] += 1\n",
    "            else:\n",
    "                unique_chars[letter] = 1\n",
    "        for key in unique_chars:\n",
    "            if unique_chars[key] > 1:\n",
    "                count += 1\n",
    "        for value in unique_chars.values():\n",
    "            if value > 1:\n",
    "                count += 1\n",
    "            else:\n",
    "                pass\n",
    "        if count > 0:\n",
    "            return False\n",
    "        else:\n",
    "            return True"
   ]
  },
  {
   "cell_type": "code",
   "execution_count": 178,
   "metadata": {},
   "outputs": [
    {
     "data": {
      "text/plain": [
       "True"
      ]
     },
     "execution_count": 178,
     "metadata": {},
     "output_type": "execute_result"
    }
   ],
   "source": [
    "has_unique_chars(\"AbkLCsfjXwZmpdFEo\")"
   ]
  },
  {
   "cell_type": "markdown",
   "metadata": {},
   "source": [
    "# 45.Determine if a string s1 is a rotation of another string s2, by calling (only once) a function is_rotation."
   ]
  },
  {
   "cell_type": "code",
   "execution_count": 183,
   "metadata": {},
   "outputs": [],
   "source": [
    "def is_rotation(s1,s2):\n",
    "    rotations = []\n",
    "    if s1 == None:\n",
    "        if s2 == None:\n",
    "            return True\n",
    "        else:\n",
    "            return False\n",
    "\n",
    "    elif s1 == '':\n",
    "        if s2 == '':\n",
    "            return True\n",
    "        else:\n",
    "            return False\n",
    "    else:\n",
    "\n",
    "        for i in range(0,len(s1)):\n",
    "            temp = s1[i:] + s1[:i]\n",
    "            rotations.append(str(temp))\n",
    "        if s2 in rotations:\n",
    "            return True\n",
    "        else:\n",
    "            return False"
   ]
  },
  {
   "cell_type": "code",
   "execution_count": 186,
   "metadata": {},
   "outputs": [
    {
     "data": {
      "text/plain": [
       "True"
      ]
     },
     "execution_count": 186,
     "metadata": {},
     "output_type": "execute_result"
    }
   ],
   "source": [
    "is_rotation('abacd','cdaba')"
   ]
  },
  {
   "cell_type": "markdown",
   "metadata": {},
   "source": [
    "# 46.Compress a string such that 'AAABCCDDDD' becomes 'A3BC2D4'. Only compress the string if it saves space"
   ]
  },
  {
   "cell_type": "code",
   "execution_count": 187,
   "metadata": {},
   "outputs": [],
   "source": [
    "def compress(s1):\n",
    "    if s1 is '':\n",
    "        return ''\n",
    "    if s1 is None:\n",
    "        return None\n",
    "    result = ''\n",
    "    count = 1\n",
    "    result += s1[0]\n",
    "    for i in range(0,len(s1)-1):\n",
    "        if s1[i] == s1[i+1]:\n",
    "            count +=1\n",
    "        elif count >1:\n",
    "            result += str(count)+s1[i+1]\n",
    "            count = 1\n",
    "        elif count == 1:\n",
    "            result += s1[i+1]\n",
    "    if(count > 1):\n",
    "        result += str(count)\n",
    "    if len(s1) == len(result):\n",
    "        return s1\n",
    "    else:\n",
    "        return result"
   ]
  },
  {
   "cell_type": "code",
   "execution_count": 188,
   "metadata": {},
   "outputs": [
    {
     "data": {
      "text/plain": [
       "'A2B3CD2E4'"
      ]
     },
     "execution_count": 188,
     "metadata": {},
     "output_type": "execute_result"
    }
   ],
   "source": [
    "compress(\"AABBBCDDEEEE\")"
   ]
  },
  {
   "cell_type": "markdown",
   "metadata": {},
   "source": [
    "# 47.Find the single different char between two strings"
   ]
  },
  {
   "cell_type": "code",
   "execution_count": 189,
   "metadata": {},
   "outputs": [],
   "source": [
    "def find_diff(s1,s2):\n",
    "    set1 = set(s1)\n",
    "    set2 = set(s2)\n",
    "    return ''.join(str(s) for s in set1^set2)"
   ]
  },
  {
   "cell_type": "code",
   "execution_count": 190,
   "metadata": {},
   "outputs": [
    {
     "data": {
      "text/plain": [
       "'e'"
      ]
     },
     "execution_count": 190,
     "metadata": {},
     "output_type": "execute_result"
    }
   ],
   "source": [
    "find_diff('aabcddd','abbbbccde')"
   ]
  },
  {
   "cell_type": "markdown",
   "metadata": {},
   "source": [
    "# 48.Lottery:"
   ]
  },
  {
   "cell_type": "code",
   "execution_count": 1,
   "metadata": {},
   "outputs": [
    {
     "name": "stdout",
     "output_type": "stream",
     "text": [
      "Hi whats your Name?\n",
      "sajib\n",
      "So sajib can you guess the number?\n",
      "18\n",
      "Loose\n"
     ]
    }
   ],
   "source": [
    "import random\n",
    "print('Hi whats your Name?')\n",
    "#user will input a string\n",
    "username = input()\n",
    "\n",
    "generated_number= random.randint(1,20)\n",
    "print('So {} can you guess the number?' .format(username))\n",
    "\n",
    "guessed_number = int(input())\n",
    "\n",
    "        \n",
    "if generated_number==guessed_number:\n",
    "    print('win')\n",
    "else:\n",
    "    print ('Loose')"
   ]
  },
  {
   "cell_type": "markdown",
   "metadata": {},
   "source": [
    "# 49.Random no(List):"
   ]
  },
  {
   "cell_type": "code",
   "execution_count": 2,
   "metadata": {},
   "outputs": [
    {
     "name": "stdout",
     "output_type": "stream",
     "text": [
      "10\n",
      "10\n",
      "[27, 30, 62, 7, 73, 92, 89, 14, 95, 53, 1323, 1536, 1036, 1681, 658, 2343, 231, 1225, 1868, 2019]\n"
     ]
    }
   ],
   "source": [
    "import random\n",
    "mylst1 = random.sample(range(1,98), 10)\n",
    "mylst2 = random.sample(range(100,2500), 10)\n",
    "print(len(mylst1))\n",
    "print(len(mylst2))\n",
    "cmblst = mylst1 + mylst2\n",
    "print(cmblst)"
   ]
  },
  {
   "cell_type": "code",
   "execution_count": 3,
   "metadata": {},
   "outputs": [
    {
     "name": "stdout",
     "output_type": "stream",
     "text": [
      "[27, 30, 62, 7, 73, 92, 89, 14, 95, 53, 1323, 1536, 1036, 1681, 658, 2343, 231, 1225, 1868, 2019]\n",
      "[54, 60, 124, 14, 146, 184, 178, 28, 190, 106, 2646, 3072, 2072, 3362, 1316, 4686, 462, 2450, 3736, 4038]\n"
     ]
    }
   ],
   "source": [
    "twicelst = []\n",
    "i=0\n",
    "for i in range(0, len(cmblst)):\n",
    "    twicelst.append(cmblst[i]*2)\n",
    "\n",
    "print (cmblst)\n",
    "print (twicelst)"
   ]
  },
  {
   "cell_type": "code",
   "execution_count": 4,
   "metadata": {},
   "outputs": [
    {
     "name": "stdout",
     "output_type": "stream",
     "text": [
      "[7, 14, 27, 30, 53, 62, 73, 89, 92, 95, 231, 658, 1036, 1225, 1323, 1536, 1681, 1868, 2019, 2343]\n"
     ]
    }
   ],
   "source": [
    "cmblst.sort()\n",
    "print(cmblst)"
   ]
  },
  {
   "cell_type": "code",
   "execution_count": 5,
   "metadata": {},
   "outputs": [
    {
     "name": "stdout",
     "output_type": "stream",
     "text": [
      "[2343, 2019, 1868, 1681, 1536, 1323, 1225, 1036, 658, 231, 95, 92, 89, 73, 62, 53, 30, 27, 14, 7]\n"
     ]
    }
   ],
   "source": [
    "cmblst.sort(reverse=True)\n",
    "print(cmblst)"
   ]
  },
  {
   "cell_type": "markdown",
   "metadata": {},
   "source": [
    "# 50.Dictionary operation:"
   ]
  },
  {
   "cell_type": "code",
   "execution_count": 6,
   "metadata": {},
   "outputs": [],
   "source": [
    "mydict1 ={'one': 1, 'two': 2, 'three': 3, 'four': 4, 'five' : 5}\n",
    "mydict2 ={'ten': 10, 'nine': 9, 'eight': 8}"
   ]
  },
  {
   "cell_type": "code",
   "execution_count": 7,
   "metadata": {},
   "outputs": [
    {
     "name": "stdout",
     "output_type": "stream",
     "text": [
      "dict_keys(['one', 'two', 'three', 'four', 'five'])\n",
      "dict_values([10, 9, 8])\n"
     ]
    }
   ],
   "source": [
    "print(mydict1.keys())\n",
    "print(mydict2.values())"
   ]
  },
  {
   "cell_type": "code",
   "execution_count": 8,
   "metadata": {},
   "outputs": [
    {
     "name": "stdout",
     "output_type": "stream",
     "text": [
      "{'one': 1, 'two': 2, 'three': 3, 'four': 4, 'five': 5, 'ten': 10, 'nine': 9, 'eight': 8}\n"
     ]
    }
   ],
   "source": [
    "mydict = {**mydict1, **mydict2}\n",
    "print(mydict)"
   ]
  },
  {
   "cell_type": "code",
   "execution_count": 9,
   "metadata": {},
   "outputs": [],
   "source": [
    "mydict1.update(mydict2)"
   ]
  },
  {
   "cell_type": "code",
   "execution_count": 10,
   "metadata": {},
   "outputs": [
    {
     "name": "stdout",
     "output_type": "stream",
     "text": [
      "{'one': 1, 'two': 2, 'three': 3, 'four': 4, 'five': 5, 'ten': 10, 'nine': 9, 'eight': 8}\n"
     ]
    }
   ],
   "source": [
    "print(mydict1)"
   ]
  },
  {
   "cell_type": "code",
   "execution_count": 11,
   "metadata": {},
   "outputs": [
    {
     "name": "stdout",
     "output_type": "stream",
     "text": [
      "[('one', 1), ('two', 2), ('three', 3), ('four', 4), ('five', 5), ('eight', 8), ('nine', 9), ('ten', 10)]\n"
     ]
    }
   ],
   "source": [
    "import operator\n",
    "sorted_x = sorted(mydict1.items(), key=operator.itemgetter(1), reverse=False)\n",
    "print(sorted_x)"
   ]
  },
  {
   "cell_type": "code",
   "execution_count": 12,
   "metadata": {},
   "outputs": [
    {
     "data": {
      "text/plain": [
       "[1, 2, 3, 4, 5, 8, 9, 10]"
      ]
     },
     "execution_count": 12,
     "metadata": {},
     "output_type": "execute_result"
    }
   ],
   "source": [
    "sorted(mydict1.values())"
   ]
  },
  {
   "cell_type": "code",
   "execution_count": 13,
   "metadata": {},
   "outputs": [
    {
     "data": {
      "text/plain": [
       "['eight', 'five', 'four', 'nine', 'one', 'ten', 'three', 'two']"
      ]
     },
     "execution_count": 13,
     "metadata": {},
     "output_type": "execute_result"
    }
   ],
   "source": [
    "sorted(mydict1.keys())"
   ]
  },
  {
   "cell_type": "code",
   "execution_count": 14,
   "metadata": {},
   "outputs": [
    {
     "data": {
      "text/plain": [
       "dict_keys(['one', 'two', 'three', 'four', 'five', 'ten', 'nine', 'eight'])"
      ]
     },
     "execution_count": 14,
     "metadata": {},
     "output_type": "execute_result"
    }
   ],
   "source": [
    "mydict1.keys()"
   ]
  },
  {
   "cell_type": "markdown",
   "metadata": {},
   "source": [
    "# 51.Some function exercise:"
   ]
  },
  {
   "cell_type": "code",
   "execution_count": 17,
   "metadata": {},
   "outputs": [],
   "source": [
    "def divisor():\n",
    "    for i in range(1,50):\n",
    "        if(i%7==0):\n",
    "            print(i)"
   ]
  },
  {
   "cell_type": "code",
   "execution_count": 18,
   "metadata": {},
   "outputs": [
    {
     "name": "stdout",
     "output_type": "stream",
     "text": [
      "7\n",
      "14\n",
      "21\n",
      "28\n",
      "35\n",
      "42\n",
      "49\n"
     ]
    }
   ],
   "source": [
    "divisor()"
   ]
  },
  {
   "cell_type": "code",
   "execution_count": 23,
   "metadata": {},
   "outputs": [],
   "source": [
    "from datetime import date\n",
    "def agecal(yearofbrith, monthofbirth, dateofBirt):\n",
    "    _dob= date(yearofbrith, monthofbirth, dateofBirt)\n",
    "    _today = date.today()\n",
    "    return (_today.year - _dob.year)\n",
    "    "
   ]
  },
  {
   "cell_type": "code",
   "execution_count": 25,
   "metadata": {},
   "outputs": [
    {
     "data": {
      "text/plain": [
       "30"
      ]
     },
     "execution_count": 25,
     "metadata": {},
     "output_type": "execute_result"
    }
   ],
   "source": [
    "agecal(1989, 10, 7)"
   ]
  },
  {
   "cell_type": "code",
   "execution_count": 26,
   "metadata": {},
   "outputs": [],
   "source": [
    "def compairlst():\n",
    "    mylst1 = [1,23,45,10,24]\n",
    "    mylst2 = [32,23,10,3]\n",
    "    return list(set(mylst1).intersection(mylst2))"
   ]
  },
  {
   "cell_type": "code",
   "execution_count": 27,
   "metadata": {},
   "outputs": [
    {
     "data": {
      "text/plain": [
       "[10, 23]"
      ]
     },
     "execution_count": 27,
     "metadata": {},
     "output_type": "execute_result"
    }
   ],
   "source": [
    "compairlst()"
   ]
  },
  {
   "cell_type": "markdown",
   "metadata": {},
   "source": [
    "# palindrome func:"
   ]
  },
  {
   "cell_type": "code",
   "execution_count": 28,
   "metadata": {},
   "outputs": [],
   "source": [
    "def reverse(s): \n",
    "    return s[::-1]\n",
    "\n",
    "def isPalindrome(stri):\n",
    "    s= reverse(stri)\n",
    "    if (s == stri):\n",
    "        return True\n",
    "    return False"
   ]
  },
  {
   "cell_type": "code",
   "execution_count": 29,
   "metadata": {},
   "outputs": [
    {
     "data": {
      "text/plain": [
       "True"
      ]
     },
     "execution_count": 29,
     "metadata": {},
     "output_type": "execute_result"
    }
   ],
   "source": [
    "isPalindrome('madam')"
   ]
  },
  {
   "cell_type": "code",
   "execution_count": 30,
   "metadata": {},
   "outputs": [],
   "source": [
    "def checkisPalindrome(mylst1):\n",
    "    for i in mylst1:\n",
    "        if (isPalindrome(i)==False):\n",
    "            mylst1.remove(i)\n",
    "    return mylst1"
   ]
  },
  {
   "cell_type": "code",
   "execution_count": 31,
   "metadata": {},
   "outputs": [
    {
     "data": {
      "text/plain": [
       "['madam', 'navan']"
      ]
     },
     "execution_count": 31,
     "metadata": {},
     "output_type": "execute_result"
    }
   ],
   "source": [
    "mylst1=['sajib', 'madam', 'navan', 'lamda']\n",
    "checkisPalindrome(mylst1)"
   ]
  },
  {
   "cell_type": "markdown",
   "metadata": {},
   "source": [
    "# unique list"
   ]
  },
  {
   "cell_type": "code",
   "execution_count": 32,
   "metadata": {},
   "outputs": [],
   "source": [
    "import random\n",
    "def uniquelist():\n",
    "    mylst1 = random.sample(range(1,20), 10)\n",
    "    mylst2 = random.sample(range(10,30), 15)\n",
    "    return list(set(mylst1).intersection(mylst2))"
   ]
  },
  {
   "cell_type": "code",
   "execution_count": 33,
   "metadata": {},
   "outputs": [
    {
     "data": {
      "text/plain": [
       "[17, 10, 11, 13]"
      ]
     },
     "execution_count": 33,
     "metadata": {},
     "output_type": "execute_result"
    }
   ],
   "source": [
    "uniquelist()"
   ]
  },
  {
   "cell_type": "markdown",
   "metadata": {},
   "source": [
    "# Fibonacci series:"
   ]
  },
  {
   "cell_type": "code",
   "execution_count": 35,
   "metadata": {},
   "outputs": [
    {
     "name": "stdout",
     "output_type": "stream",
     "text": [
      "0\n",
      "1\n",
      "1\n",
      "2\n",
      "3\n",
      "5\n",
      "8\n",
      "13\n"
     ]
    }
   ],
   "source": [
    "def recur_fibo(n):\n",
    "    if n <= 1:\n",
    "        return n\n",
    "    else:\n",
    "        return(recur_fibo(n-1) + recur_fibo(n-2))\n",
    "nterms = 8\n",
    "for i in range(nterms):\n",
    "       print(recur_fibo(i))"
   ]
  },
  {
   "cell_type": "markdown",
   "metadata": {},
   "source": [
    "# Password Generator:"
   ]
  },
  {
   "cell_type": "code",
   "execution_count": 36,
   "metadata": {},
   "outputs": [],
   "source": [
    "def passwordgen(length):\n",
    "    import random\n",
    "    import string\n",
    "    i=0\n",
    "    pwd=\"\"\n",
    "    for i in range(length):\n",
    "        lower=[random.choice(string.ascii_lowercase)]\n",
    "        upper=[random.choice(string.ascii_uppercase)]\n",
    "        num= [random.choice(string.digits)]\n",
    "        punctuation = [random.choice(string.punctuation)]\n",
    "        allinOne=lower + upper + num + punctuation\n",
    "        pwd = pwd + random.choice(allinOne)\n",
    "    print(pwd)"
   ]
  },
  {
   "cell_type": "code",
   "execution_count": 37,
   "metadata": {},
   "outputs": [
    {
     "name": "stdout",
     "output_type": "stream",
     "text": [
      "AcL5M<13ui\n"
     ]
    }
   ],
   "source": [
    "passwordgen(10)"
   ]
  },
  {
   "cell_type": "code",
   "execution_count": null,
   "metadata": {},
   "outputs": [],
   "source": []
  }
 ],
 "metadata": {
  "kernelspec": {
   "display_name": "Python 3",
   "language": "python",
   "name": "python3"
  },
  "language_info": {
   "codemirror_mode": {
    "name": "ipython",
    "version": 3
   },
   "file_extension": ".py",
   "mimetype": "text/x-python",
   "name": "python",
   "nbconvert_exporter": "python",
   "pygments_lexer": "ipython3",
   "version": "3.7.1"
  }
 },
 "nbformat": 4,
 "nbformat_minor": 2
}
